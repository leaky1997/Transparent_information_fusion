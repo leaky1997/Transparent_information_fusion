{
 "cells": [
  {
   "cell_type": "code",
   "execution_count": 1,
   "metadata": {},
   "outputs": [
    {
     "name": "stdout",
     "output_type": "stream",
     "text": [
      "4096\n"
     ]
    }
   ],
   "source": [
    "from types import SimpleNamespace\n",
    "\n",
    "# 假设config是你的配置字典\n",
    "config = {\n",
    "    'args': {\n",
    "        'skip_connection': True, \n",
    "        'num_classes': 5, \n",
    "        'device': 'cuda', \n",
    "        'in_dim': 4096, \n",
    "        'out_dim': 4096, \n",
    "        'in_channels': 1, \n",
    "        'scale': 1\n",
    "    }\n",
    "}\n",
    "\n",
    "args = SimpleNamespace(**config['args'])\n",
    "\n",
    "# 现在你可以使用点符号来访问args的值\n",
    "print(args.in_dim)  # 输出：4096"
   ]
  },
  {
   "cell_type": "code",
   "execution_count": 1,
   "metadata": {},
   "outputs": [
    {
     "name": "stdout",
     "output_type": "stream",
     "text": [
      "12.1\n",
      "True\n"
     ]
    }
   ],
   "source": [
    "import torch\n",
    "\n",
    "print(torch.version.cuda)\n",
    "print(torch.cuda.is_available())"
   ]
  }
 ],
 "metadata": {
  "kernelspec": {
   "display_name": "LQ1",
   "language": "python",
   "name": "python3"
  },
  "language_info": {
   "codemirror_mode": {
    "name": "ipython",
    "version": 3
   },
   "file_extension": ".py",
   "mimetype": "text/x-python",
   "name": "python",
   "nbconvert_exporter": "python",
   "pygments_lexer": "ipython3",
   "version": "3.9.18"
  }
 },
 "nbformat": 4,
 "nbformat_minor": 2
}
