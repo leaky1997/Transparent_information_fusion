{
 "cells": [
  {
   "cell_type": "code",
   "execution_count": 1,
   "metadata": {},
   "outputs": [],
   "source": [
    "%load_ext autoreload\n",
    "%autoreload 2\n",
    "!CUDA_VISIBLE_DEVICES=7 \n",
    "import sys\n",
    "sys.path.insert(0, '/home/user/LQ/B_Signal/Transparent_information_fusion/post/')  # 添加上一级目录到系统路径\n",
    "\n",
    "from A1_plot_config import configure_matplotlib\n",
    "configure_matplotlib(style='ieee', font_lang='en')\n",
    "# %reload_ext autoreload\n",
    "\n",
    "import os\n",
    "\n",
    "# 修改当前工作目录\n",
    "root_dir = '/home/user/LQ/B_Signal/Transparent_information_fusion/'\n",
    "os.chdir(root_dir)"
   ]
  },
  {
   "cell_type": "markdown",
   "metadata": {},
   "source": [
    "## load"
   ]
  },
  {
   "cell_type": "code",
   "execution_count": 2,
   "metadata": {},
   "outputs": [
    {
     "name": "stderr",
     "output_type": "stream",
     "text": [
      "/home/user/anaconda3/envs/LQ1/lib/python3.9/site-packages/tqdm/auto.py:21: TqdmWarning: IProgress not found. Please update jupyter and ipywidgets. See https://ipywidgets.readthedocs.io/en/stable/user_install.html\n",
      "  from .autonotebook import tqdm as notebook_tqdm\n",
      "Seed set to 17\n"
     ]
    },
    {
     "name": "stdout",
     "output_type": "stream",
     "text": [
      "Running experiment: post_time2024-07-10-17-22_lr0.001_epochs300_scale4_l1norm0.001_datasetDIRG_020_basic_seed17\n",
      "# build signal processing layers\n",
      "# build feature extractor layers\n",
      "# build classifier\n"
     ]
    },
    {
     "name": "stderr",
     "output_type": "stream",
     "text": [
      "GPU available: True (cuda), used: True\n",
      "TPU available: False, using: 0 TPU cores\n",
      "IPU available: False, using: 0 IPUs\n",
      "HPU available: False, using: 0 HPUs\n"
     ]
    },
    {
     "name": "stdout",
     "output_type": "stream",
     "text": [
      "Loading best model from save/task_DIRG_020_basic/model_NNSPN/model_NNSPNtime10-17-09-55_lr0.001_epochs300_datasetDIRG_020_basic/model-epoch=46-val_loss=0.0528-val_acc=1.0000-l1_loss=0.0000.ckpt\n"
     ]
    }
   ],
   "source": [
    "from A3_load_model import load_models,predict_from_loader\n",
    "\n",
    "# root_dir = '/home/user/LQ/B_Signal/Transparent_information_fusion/'\n",
    "config_dir = 'configs/DIRG_020/config_NNSPN.yaml'\n",
    "# 6\n",
    "best_model_path = 'save/task_DIRG_020_basic/model_NNSPN/model_NNSPNtime10-17-09-55_lr0.001_epochs300_datasetDIRG_020_basic/model-epoch=46-val_loss=0.0528-val_acc=1.0000-l1_loss=0.0000.ckpt' \n",
    "\n",
    "\n",
    "TSPN, test_dataloader,args = load_models(config_dir,best_model_path=best_model_path)\n",
    "\n",
    "# y_true,y_pred = predict_from_loader(TSPN,test_dataloader)\n",
    "\n",
    "\n"
   ]
  },
  {
   "cell_type": "code",
   "execution_count": null,
   "metadata": {},
   "outputs": [],
   "source": [
    "# from A4_confusion_plus_noise_task import heatmap_confusion,plot_accuracy_vs_snr\n",
    "# heatmap_confusion(predictions = y_pred, test_labels = y_true, args = args,plot_dir='./plot', name='NNSPN')\n"
   ]
  },
  {
   "cell_type": "code",
   "execution_count": null,
   "metadata": {},
   "outputs": [],
   "source": [
    "# from A4_confusion_plus_noise_task import heatmap_confusion,plot_accuracy_vs_snr\n",
    "# y_true,y_pred = predict_from_loader(MWA.cuda(),test_dataloader)\n",
    "# heatmap_confusion(predictions = y_pred, test_labels = y_true, args = args,plot_dir='./plot', name='MWA')"
   ]
  },
  {
   "cell_type": "code",
   "execution_count": null,
   "metadata": {},
   "outputs": [],
   "source": [
    "from A4_confusion_plus_noise_task import plot_accuracy_vs_snr\n",
    "\n",
    "\n",
    "Resnet_condfig_dir = 'configs/DIRG_020/config_Resnet.yaml'\n",
    "MWA_config_dir = 'configs/DIRG_020/config_MWA_CNN.yaml'\n",
    "Sincnet_config_dir = 'configs/DIRG_020/config_Sincnet.yaml'\n",
    "WKN_config_dir = 'configs/DIRG_020/config_WKN.yaml'\n",
    "\n",
    "resnet, test_dataloader, args = load_models(Resnet_condfig_dir,best_model_path='save/Attention_paper/basic/Resnet/model-epoch=247-val_loss=0.0028-val_acc=1.0000-l1_loss=0.0000.ckpt')\n",
    "MWA,_,_ = load_models(MWA_config_dir,best_model_path='save/Attention_paper/basic/CNN/model-epoch=122-val_loss=0.0024-val_acc=1.0000-l1_loss=0.0000.ckpt')\n",
    "Sincnet,_,_ = load_models(Sincnet_config_dir,best_model_path='save/Attention_paper/basic/Sinc_net/model-epoch=278-val_loss=0.0013-val_acc=1.0000-l1_loss=0.0000.ckpt')\n",
    "WKN,_,_ = load_models(WKN_config_dir,best_model_path='save/Attention_paper/basic/WKN/model-epoch=211-val_loss=0.0042-val_acc=1.0000-l1_loss=0.0000.ckpt')\n",
    "\n",
    "\n",
    "\n"
   ]
  },
  {
   "cell_type": "code",
   "execution_count": 3,
   "metadata": {},
   "outputs": [
    {
     "name": "stderr",
     "output_type": "stream",
     "text": [
      "Seed set to 17\n"
     ]
    }
   ],
   "source": [
    "from pytorch_lightning import seed_everything\n",
    "seed_everything(args.seed)\n",
    "# test_dataloader.dataset.flag = 'test'  #\n",
    "# test_dataloader.dataset.data_create()\n",
    "data = test_dataloader.dataset.selected_data\n",
    "labels = test_dataloader.dataset.selected_labels"
   ]
  },
  {
   "cell_type": "markdown",
   "metadata": {},
   "source": [
    "## plot"
   ]
  },
  {
   "cell_type": "code",
   "execution_count": null,
   "metadata": {},
   "outputs": [],
   "source": [
    "model_dict = {'Proposed method':TSPN,\n",
    "              'M1':resnet,\n",
    "              'M2':Sincnet,\n",
    "              'M3':WKN,\n",
    "              'M4':MWA}\n",
    "\n",
    "snr_levels = [-5, -4, -3, -2, -1, 0, 1, 2, 3, 4, 5, 6, 7, 8, 9, 10, 11]\n",
    "plot_accuracy_vs_snr(test_data = data, test_labels = labels, model_dict = model_dict, snr_levels = snr_levels, plot_dir='./plot')"
   ]
  },
  {
   "cell_type": "markdown",
   "metadata": {},
   "source": [
    "# attention changing"
   ]
  },
  {
   "cell_type": "code",
   "execution_count": null,
   "metadata": {},
   "outputs": [],
   "source": [
    "from torch.nn import functional as F"
   ]
  },
  {
   "cell_type": "markdown",
   "metadata": {},
   "source": []
  },
  {
   "cell_type": "markdown",
   "metadata": {},
   "source": [
    "## 最开始的模型"
   ]
  },
  {
   "cell_type": "code",
   "execution_count": 4,
   "metadata": {},
   "outputs": [],
   "source": [
    "import torch \n",
    "from torch.nn import functional as F\n",
    "def parse_attention(noisy_data,model):\n",
    "    \n",
    "    model = model.cuda()\n",
    "    model(torch.tensor(noisy_data).float().cuda())\n",
    "\n",
    "    model = model.network\n",
    "    SP_attentions = []\n",
    "    for layer in model.signal_processing_layers:\n",
    "        SP_attentions.append(layer.channel_attention.gate)\n",
    "    FE_attention = model.feature_extractor_layers.FEAttention.gate\n",
    "    return SP_attentions,FE_attention\n",
    "SPattnetion,FE_attnention = parse_attention(data,TSPN)\n",
    "\n",
    "spa = SPattnetion[0]"
   ]
  },
  {
   "cell_type": "code",
   "execution_count": null,
   "metadata": {},
   "outputs": [],
   "source": [
    "# F.softmax((1.0 / 0.01) * layer.channel_attention.gate, dim=1)"
   ]
  },
  {
   "attachments": {
    "image.png": {
     "image/png": "[encoded data removed]"
    }
   },
   "cell_type": "markdown",
   "metadata": {},
   "source": [
    "发现attention 平凡化![image.png](attachment:image.png)\n",
    "遂采用l1norm "
   ]
  },
  {
   "cell_type": "code",
   "execution_count": 11,
   "metadata": {},
   "outputs": [
    {
     "data": {
      "text/plain": [
       "<All keys matched successfully>"
      ]
     },
     "execution_count": 11,
     "metadata": {},
     "output_type": "execute_result"
    }
   ],
   "source": [
    "best_model_path = '/home/user/LQ/B_Signal/Transparent_information_fusion/save/task_DIRG_020_basic/model_NNSPN/model_NNSPNtime10-15-20-25_lr0.001_epochs300_datasetDIRG_020_basic/model-epoch=10-val_loss=0.6965-val_acc=0.7314-l1_loss=0.0000.ckpt' \n",
    "state_dict = torch.load(best_model_path)\n",
    "TSPN.load_state_dict(state_dict['state_dict'])"
   ]
  },
  {
   "cell_type": "code",
   "execution_count": 12,
   "metadata": {},
   "outputs": [],
   "source": [
    "SPattnetion,FE_attnention = parse_attention(data,TSPN)\n",
    "spa = SPattnetion[0]"
   ]
  },
  {
   "cell_type": "code",
   "execution_count": null,
   "metadata": {},
   "outputs": [],
   "source": []
  }
 ],
 "metadata": {
  "kernelspec": {
   "display_name": "LQ1",
   "language": "python",
   "name": "python3"
  },
  "language_info": {
   "codemirror_mode": {
    "name": "ipython",
    "version": 3
   },
   "file_extension": ".py",
   "mimetype": "text/x-python",
   "name": "python",
   "nbconvert_exporter": "python",
   "pygments_lexer": "ipython3",
   "version": "3.9.18"
  }
 },
 "nbformat": 4,
 "nbformat_minor": 2
}
