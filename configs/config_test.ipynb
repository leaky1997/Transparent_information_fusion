{
 "cells": [
  {
   "cell_type": "code",
   "execution_count": 1,
   "metadata": {},
   "outputs": [
    {
     "name": "stdout",
     "output_type": "stream",
     "text": [
      "moduleA_2\n"
     ]
    }
   ],
   "source": [
    "def get_unique_module_name(existing_names, module_name):\n",
    "    \"\"\"\n",
    "    根据已存在的模块名列表，为新模块生成一个唯一的名称。\n",
    "    \n",
    "    :param existing_names: 已存在的模块名称的集合或列表。\n",
    "    :param module_name: 要检查的模块名称。\n",
    "    :return: 唯一的模块名称。\n",
    "    \"\"\"\n",
    "    if module_name not in existing_names:\n",
    "        # 如果模块名不存在，则直接返回\n",
    "        return module_name\n",
    "    else:\n",
    "        # 如果模块名已存在，尝试添加序号直到找到一个唯一的名字\n",
    "        index = 1\n",
    "        unique_name = f\"{module_name}_{index}\"\n",
    "        while unique_name in existing_names:\n",
    "            index += 1\n",
    "            unique_name = f\"{module_name}_{index}\"\n",
    "        return unique_name\n",
    "\n",
    "# 示例\n",
    "existing_names = {\"moduleA\", \"moduleB\", \"moduleA_1\"}\n",
    "module_name = \"moduleA\"\n",
    "new_module_name = get_unique_module_name(existing_names, module_name)\n",
    "print(new_module_name)\n"
   ]
  }
 ],
 "metadata": {
  "kernelspec": {
   "display_name": "LQ1",
   "language": "python",
   "name": "python3"
  },
  "language_info": {
   "codemirror_mode": {
    "name": "ipython",
    "version": 3
   },
   "file_extension": ".py",
   "mimetype": "text/x-python",
   "name": "python",
   "nbconvert_exporter": "python",
   "pygments_lexer": "ipython3",
   "version": "3.9.18"
  }
 },
 "nbformat": 4,
 "nbformat_minor": 2
}
