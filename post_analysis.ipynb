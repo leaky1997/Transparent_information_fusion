{
 "cells": [
  {
   "cell_type": "code",
   "execution_count": null,
   "metadata": {},
   "outputs": [],
   "source": []
  },
  {
   "cell_type": "code",
   "execution_count": null,
   "metadata": {},
   "outputs": [],
   "source": [
    "\n",
    "\n",
    "# 假设您已经有了模型的实例\n",
    "model = Transparent_Signal_Processing_Network(signal_processing_modules, feature_extractor_modules, args)\n",
    "\n",
    "# 加载模型参数\n",
    "checkpoint = torch.load('path_to_your_saved_checkpoint.ckpt', map_location=torch.device('cpu'))\n",
    "model.load_state_dict(checkpoint['state_dict'])\n",
    "\n",
    "# 确保模型在评估模式下\n",
    "model.eval()\n"
   ]
  }
 ],
 "metadata": {
  "language_info": {
   "name": "python"
  }
 },
 "nbformat": 4,
 "nbformat_minor": 2
}
