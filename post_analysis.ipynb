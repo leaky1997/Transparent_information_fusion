{
 "cells": [
  {
   "cell_type": "markdown",
   "metadata": {},
   "source": [
    "# V1 test"
   ]
  },
  {
   "cell_type": "code",
   "execution_count": 2,
   "metadata": {},
   "outputs": [
    {
     "name": "stderr",
     "output_type": "stream",
     "text": [
      "GPU available: True (cuda), used: True\n",
      "TPU available: False, using: 0 TPU cores\n",
      "IPU available: False, using: 0 IPUs\n",
      "HPU available: False, using: 0 HPUs\n",
      "LOCAL_RANK: 0 - CUDA_VISIBLE_DEVICES: [0,1,2,3,4,5,6,7]\n"
     ]
    },
    {
     "name": "stdout",
     "output_type": "stream",
     "text": [
      "Running experiment: lr0.001_epochs10_seed17_scale2\n",
      "# build signal processing layers\n",
      "# build feature extractor layers\n",
      "# build classifier\n",
      "### network:\n",
      " Transparent_Signal_Processing_Network(\n",
      "  (signal_processing_layers): ModuleList(\n",
      "    (0): SignalProcessingLayer(\n",
      "      (norm): InstanceNorm1d(2, eps=1e-05, momentum=0.1, affine=False, track_running_stats=False)\n",
      "      (weight_connection): Linear(in_features=2, out_features=6, bias=True)\n",
      "      (signal_processing_modules): SignalProcessingModuleDict(\n",
      "        (HT): HilbertTransform()\n",
      "        (WF): WaveFilters()\n",
      "        (I): Identity()\n",
      "      )\n",
      "      (skip_connection): Linear(in_features=2, out_features=6, bias=True)\n",
      "    )\n",
      "    (1-3): 3 x SignalProcessingLayer(\n",
      "      (norm): InstanceNorm1d(6, eps=1e-05, momentum=0.1, affine=False, track_running_stats=False)\n",
      "      (weight_connection): Linear(in_features=6, out_features=6, bias=True)\n",
      "      (signal_processing_modules): SignalProcessingModuleDict(\n",
      "        (HT): HilbertTransform()\n",
      "        (WF): WaveFilters()\n",
      "        (I): Identity()\n",
      "      )\n",
      "      (skip_connection): Linear(in_features=6, out_features=6, bias=True)\n",
      "    )\n",
      "  )\n",
      "  (feature_extractor_layers): FeatureExtractorlayer(\n",
      "    (weight_connection): Linear(in_features=6, out_features=6, bias=True)\n",
      "  )\n",
      "  (clf): Classifier(\n",
      "    (clf): Sequential(\n",
      "      (0): Linear(in_features=78, out_features=1024, bias=True)\n",
      "      (1): ReLU()\n",
      "      (2): Linear(in_features=1024, out_features=5, bias=True)\n",
      "    )\n",
      "  )\n",
      ")\n",
      "Testing DataLoader 0: 100%|██████████| 6/6 [00:00<00:00, 90.42it/s]\n"
     ]
    },
    {
     "data": {
      "text/html": [
       "<pre style=\"white-space:pre;overflow-x:auto;line-height:normal;font-family:Menlo,'DejaVu Sans Mono',consolas,'Courier New',monospace\">┏━━━━━━━━━━━━━━━━━━━━━━━━━━━┳━━━━━━━━━━━━━━━━━━━━━━━━━━━┓\n",
       "┃<span style=\"font-weight: bold\">        Test metric        </span>┃<span style=\"font-weight: bold\">       DataLoader 0        </span>┃\n",
       "┡━━━━━━━━━━━━━━━━━━━━━━━━━━━╇━━━━━━━━━━━━━━━━━━━━━━━━━━━┩\n",
       "│<span style=\"color: #008080; text-decoration-color: #008080\">      test_acc_epoch       </span>│<span style=\"color: #800080; text-decoration-color: #800080\">    0.4578651785850525     </span>│\n",
       "│<span style=\"color: #008080; text-decoration-color: #008080\">      test_loss_epoch      </span>│<span style=\"color: #800080; text-decoration-color: #800080\">    1.2863938808441162     </span>│\n",
       "└───────────────────────────┴───────────────────────────┘\n",
       "</pre>\n"
      ],
      "text/plain": [
       "┏━━━━━━━━━━━━━━━━━━━━━━━━━━━┳━━━━━━━━━━━━━━━━━━━━━━━━━━━┓\n",
       "┃\u001b[1m \u001b[0m\u001b[1m       Test metric       \u001b[0m\u001b[1m \u001b[0m┃\u001b[1m \u001b[0m\u001b[1m      DataLoader 0       \u001b[0m\u001b[1m \u001b[0m┃\n",
       "┡━━━━━━━━━━━━━━━━━━━━━━━━━━━╇━━━━━━━━━━━━━━━━━━━━━━━━━━━┩\n",
       "│\u001b[36m \u001b[0m\u001b[36m     test_acc_epoch      \u001b[0m\u001b[36m \u001b[0m│\u001b[35m \u001b[0m\u001b[35m   0.4578651785850525    \u001b[0m\u001b[35m \u001b[0m│\n",
       "│\u001b[36m \u001b[0m\u001b[36m     test_loss_epoch     \u001b[0m\u001b[36m \u001b[0m│\u001b[35m \u001b[0m\u001b[35m   1.2863938808441162    \u001b[0m\u001b[35m \u001b[0m│\n",
       "└───────────────────────────┴───────────────────────────┘\n"
      ]
     },
     "metadata": {},
     "output_type": "display_data"
    },
    {
     "data": {
      "text/plain": [
       "[{'test_loss_epoch': 1.2863938808441162, 'test_acc_epoch': 0.4578651785850525}]"
      ]
     },
     "execution_count": 2,
     "metadata": {},
     "output_type": "execute_result"
    }
   ],
   "source": [
    "from trainer.trainer_basic import TSPN_trainer\n",
    "from configs.config import args\n",
    "from configs.config import signal_processing_modules,feature_extractor_modules\n",
    "from pytorch_lightning.loggers import CSVLogger\n",
    "import torch\n",
    "import pytorch_lightning as pl\n",
    "\n",
    "from data.data_provider import get_data\n",
    "# dataset\n",
    "train_dataloader, val_dataloader, test_dataloader = get_data(args)\n",
    "\n",
    "name = f'model:{args.model}_lr:{args.learning_rate}_epochs:{args.num_epochs}_seed:{args.seed}_scale:{args.scale}'\n",
    "\n",
    "print(f'Running experiment: {name}')\n",
    "path = 'save/' + name\n",
    "\n",
    "trainer = pl.Trainer(max_epochs=args.num_epochs,\n",
    "                      devices= 1,\n",
    "                      logger=CSVLogger(path, name = 'logs'),\n",
    "                      log_every_n_steps=1,)\n",
    "\n",
    "model = TSPN_trainer(signal_processing_modules, feature_extractor_modules, args)\n",
    "best_model_path = 'save/lr0.001_epochs10_seed17_scale2_l1norm0.01/model-epoch=09-val_loss=0.4744.ckpt'\n",
    "state_dict = torch.load(best_model_path)\n",
    "model.load_state_dict(state_dict['state_dict'])\n",
    "\n",
    "# 使用最佳模型进行测试\n",
    "trainer.test(model, dataloaders=test_dataloader)"
   ]
  },
  {
   "cell_type": "code",
   "execution_count": null,
   "metadata": {},
   "outputs": [],
   "source": []
  }
 ],
 "metadata": {
  "kernelspec": {
   "display_name": "LQ1",
   "language": "python",
   "name": "python3"
  },
  "language_info": {
   "codemirror_mode": {
    "name": "ipython",
    "version": 3
   },
   "file_extension": ".py",
   "mimetype": "text/x-python",
   "name": "python",
   "nbconvert_exporter": "python",
   "pygments_lexer": "ipython3",
   "version": "3.9.18"
  }
 },
 "nbformat": 4,
 "nbformat_minor": 2
}
