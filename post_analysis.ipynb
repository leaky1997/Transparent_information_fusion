{
 "cells": [
  {
   "cell_type": "markdown",
   "metadata": {},
   "source": [
    "# V1 test"
   ]
  },
  {
   "cell_type": "code",
   "execution_count": 2,
   "metadata": {},
   "outputs": [
    {
     "name": "stderr",
     "output_type": "stream",
     "text": [
      "GPU available: True (cuda), used: True\n",
      "TPU available: False, using: 0 TPU cores\n",
      "IPU available: False, using: 0 IPUs\n",
      "HPU available: False, using: 0 HPUs\n",
      "LOCAL_RANK: 0 - CUDA_VISIBLE_DEVICES: [0,1,2,3,4,5,6,7]\n"
     ]
    },
    {
     "name": "stdout",
     "output_type": "stream",
     "text": [
      "Running experiment: lr0.001_epochs10_seed17_scale2\n",
      "# build signal processing layers\n",
      "# build feature extractor layers\n",
      "# build classifier\n",
      "### network:\n",
      " Transparent_Signal_Processing_Network(\n",
      "  (signal_processing_layers): ModuleList(\n",
      "    (0): SignalProcessingLayer(\n",
      "      (norm): InstanceNorm1d(2, eps=1e-05, momentum=0.1, affine=False, track_running_stats=False)\n",
      "      (weight_connection): Linear(in_features=2, out_features=6, bias=True)\n",
      "      (signal_processing_modules): SignalProcessingModuleDict(\n",
      "        (HT): HilbertTransform()\n",
      "        (WF): WaveFilters()\n",
      "        (I): Identity()\n",
      "      )\n",
      "      (skip_connection): Linear(in_features=2, out_features=6, bias=True)\n",
      "    )\n",
      "    (1-3): 3 x SignalProcessingLayer(\n",
      "      (norm): InstanceNorm1d(6, eps=1e-05, momentum=0.1, affine=False, track_running_stats=False)\n",
      "      (weight_connection): Linear(in_features=6, out_features=6, bias=True)\n",
      "      (signal_processing_modules): SignalProcessingModuleDict(\n",
      "        (HT): HilbertTransform()\n",
      "        (WF): WaveFilters()\n",
      "        (I): Identity()\n",
      "      )\n",
      "      (skip_connection): Linear(in_features=6, out_features=6, bias=True)\n",
      "    )\n",
      "  )\n",
      "  (feature_extractor_layers): FeatureExtractorlayer(\n",
      "    (weight_connection): Linear(in_features=6, out_features=6, bias=True)\n",
      "  )\n",
      "  (clf): Classifier(\n",
      "    (clf): Sequential(\n",
      "      (0): Linear(in_features=78, out_features=1024, bias=True)\n",
      "      (1): ReLU()\n",
      "      (2): Linear(in_features=1024, out_features=5, bias=True)\n",
      "    )\n",
      "  )\n",
      ")\n",
      "Testing DataLoader 0: 100%|██████████| 6/6 [00:00<00:00, 90.42it/s]\n"
     ]
    },
    {
     "data": {
      "text/html": [
       "<pre style=\"white-space:pre;overflow-x:auto;line-height:normal;font-family:Menlo,'DejaVu Sans Mono',consolas,'Courier New',monospace\">┏━━━━━━━━━━━━━━━━━━━━━━━━━━━┳━━━━━━━━━━━━━━━━━━━━━━━━━━━┓\n",
       "┃<span style=\"font-weight: bold\">        Test metric        </span>┃<span style=\"font-weight: bold\">       DataLoader 0        </span>┃\n",
       "┡━━━━━━━━━━━━━━━━━━━━━━━━━━━╇━━━━━━━━━━━━━━━━━━━━━━━━━━━┩\n",
       "│<span style=\"color: #008080; text-decoration-color: #008080\">      test_acc_epoch       </span>│<span style=\"color: #800080; text-decoration-color: #800080\">    0.4578651785850525     </span>│\n",
       "│<span style=\"color: #008080; text-decoration-color: #008080\">      test_loss_epoch      </span>│<span style=\"color: #800080; text-decoration-color: #800080\">    1.2863938808441162     </span>│\n",
       "└───────────────────────────┴───────────────────────────┘\n",
       "</pre>\n"
      ],
      "text/plain": [
       "┏━━━━━━━━━━━━━━━━━━━━━━━━━━━┳━━━━━━━━━━━━━━━━━━━━━━━━━━━┓\n",
       "┃\u001b[1m \u001b[0m\u001b[1m       Test metric       \u001b[0m\u001b[1m \u001b[0m┃\u001b[1m \u001b[0m\u001b[1m      DataLoader 0       \u001b[0m\u001b[1m \u001b[0m┃\n",
       "┡━━━━━━━━━━━━━━━━━━━━━━━━━━━╇━━━━━━━━━━━━━━━━━━━━━━━━━━━┩\n",
       "│\u001b[36m \u001b[0m\u001b[36m     test_acc_epoch      \u001b[0m\u001b[36m \u001b[0m│\u001b[35m \u001b[0m\u001b[35m   0.4578651785850525    \u001b[0m\u001b[35m \u001b[0m│\n",
       "│\u001b[36m \u001b[0m\u001b[36m     test_loss_epoch     \u001b[0m\u001b[36m \u001b[0m│\u001b[35m \u001b[0m\u001b[35m   1.2863938808441162    \u001b[0m\u001b[35m \u001b[0m│\n",
       "└───────────────────────────┴───────────────────────────┘\n"
      ]
     },
     "metadata": {},
     "output_type": "display_data"
    },
    {
     "data": {
      "text/plain": [
       "[{'test_loss_epoch': 1.2863938808441162, 'test_acc_epoch': 0.4578651785850525}]"
      ]
     },
     "execution_count": 2,
     "metadata": {},
     "output_type": "execute_result"
    }
   ],
   "source": [
    "from trainer.trainer_basic import TSPN_trainer\n",
    "from configs.config import args\n",
    "from configs.config import signal_processing_modules,feature_extractor_modules\n",
    "from pytorch_lightning.loggers import CSVLogger\n",
    "import torch\n",
    "import pytorch_lightning as pl\n",
    "\n",
    "from data.data_provider import get_data\n",
    "# dataset\n",
    "train_dataloader, val_dataloader, test_dataloader = get_data(args)\n",
    "\n",
    "name = f'model:{args.model}_lr:{args.learning_rate}_epochs:{args.num_epochs}_seed:{args.seed}_scale:{args.scale}'\n",
    "\n",
    "print(f'Running experiment: {name}')\n",
    "path = 'save/' + name\n",
    "\n",
    "trainer = pl.Trainer(max_epochs=args.num_epochs,\n",
    "                      devices= 1,\n",
    "                      logger=CSVLogger(path, name = 'logs'),\n",
    "                      log_every_n_steps=1,)\n",
    "\n",
    "model = TSPN_trainer(signal_processing_modules, feature_extractor_modules, args)\n",
    "best_model_path = 'save/lr0.001_epochs10_seed17_scale2_l1norm0.01/model-epoch=09-val_loss=0.4744.ckpt'\n",
    "state_dict = torch.load(best_model_path)\n",
    "model.load_state_dict(state_dict['state_dict'])\n",
    "\n",
    "# 使用最佳模型进行测试\n",
    "trainer.test(model, dataloaders=test_dataloader)"
   ]
  },
  {
   "cell_type": "code",
   "execution_count": 2,
   "metadata": {},
   "outputs": [
    {
     "data": {
      "text/plain": [
       "([1, 2], [1, None])"
      ]
     },
     "execution_count": 2,
     "metadata": {},
     "output_type": "execute_result"
    }
   ],
   "source": [
    "[1,2],[1,None]"
   ]
  },
  {
   "cell_type": "markdown",
   "metadata": {},
   "source": [
    "# V2"
   ]
  },
  {
   "cell_type": "code",
   "execution_count": 3,
   "metadata": {},
   "outputs": [
    {
     "name": "stderr",
     "output_type": "stream",
     "text": [
      "Seed set to 17\n"
     ]
    },
    {
     "name": "stderr",
     "output_type": "stream",
     "text": [
      "GPU available: True (cuda), used: True\n",
      "TPU available: False, using: 0 TPU cores\n",
      "IPU available: False, using: 0 IPUs\n",
      "HPU available: False, using: 0 HPUs\n"
     ]
    },
    {
     "name": "stdout",
     "output_type": "stream",
     "text": [
      "Running experiment: time2024-03-12-19-56_lr0.001_epochs5_scale4_l1norm0.01_datasetTHU_018_basic_seed17\n",
      "# build signal processing layers\n",
      "# build feature extractor layers\n",
      "# build classifier\n"
     ]
    },
    {
     "name": "stderr",
     "output_type": "stream",
     "text": [
      "You are using a CUDA device ('NVIDIA GeForce RTX 4090') that has Tensor Cores. To properly utilize them, you should set `torch.set_float32_matmul_precision('medium' | 'high')` which will trade-off precision for performance. For more details, read https://pytorch.org/docs/stable/generated/torch.set_float32_matmul_precision.html#torch.set_float32_matmul_precision\n",
      "Missing logger folder: save/model_TSPN/time2024-03-12-19-56_lr0.001_epochs5_scale4_l1norm0.01_datasetTHU_018_basic_seed17/logs\n",
      "LOCAL_RANK: 0 - CUDA_VISIBLE_DEVICES: [0,1,2,3,4,5,6,7]\n"
     ]
    },
    {
     "name": "stdout",
     "output_type": "stream",
     "text": [
      "### network:\n",
      " Transparent_Signal_Processing_Network(\n",
      "  (signal_processing_layers): ModuleList(\n",
      "    (0): SignalProcessingLayer(\n",
      "      (norm): InstanceNorm1d(2, eps=1e-05, momentum=0.1, affine=False, track_running_stats=False)\n",
      "      (weight_connection): Linear(in_features=2, out_features=12, bias=True)\n",
      "      (signal_processing_modules): SignalProcessingModuleDict(\n",
      "        (HT): HilbertTransform()\n",
      "        (WF): WaveFilters()\n",
      "        (I): Identity()\n",
      "      )\n",
      "      (skip_connection): Linear(in_features=2, out_features=12, bias=True)\n",
      "    )\n",
      "    (1-3): 3 x SignalProcessingLayer(\n",
      "      (norm): InstanceNorm1d(12, eps=1e-05, momentum=0.1, affine=False, track_running_stats=False)\n",
      "      (weight_connection): Linear(in_features=12, out_features=12, bias=True)\n",
      "      (signal_processing_modules): SignalProcessingModuleDict(\n",
      "        (HT): HilbertTransform()\n",
      "        (WF): WaveFilters()\n",
      "        (I): Identity()\n",
      "      )\n",
      "      (skip_connection): Linear(in_features=12, out_features=12, bias=True)\n",
      "    )\n",
      "  )\n",
      "  (feature_extractor_layers): FeatureExtractorlayer(\n",
      "    (weight_connection): Linear(in_features=12, out_features=12, bias=True)\n",
      "  )\n",
      "  (clf): Classifier(\n",
      "    (clf): Sequential(\n",
      "      (0): Linear(in_features=156, out_features=128, bias=True)\n",
      "      (1): ReLU()\n",
      "      (2): Linear(in_features=128, out_features=5, bias=True)\n",
      "    )\n",
      "  )\n",
      ")\n",
      "Testing DataLoader 0: 100%|██████████| 36/36 [00:00<00:00, 60.13it/s]\n"
     ]
    },
    {
     "data": {
      "text/html": [
       "<pre style=\"white-space:pre;overflow-x:auto;line-height:normal;font-family:Menlo,'DejaVu Sans Mono',consolas,'Courier New',monospace\">┏━━━━━━━━━━━━━━━━━━━━━━━━━━━┳━━━━━━━━━━━━━━━━━━━━━━━━━━━┓\n",
       "┃<span style=\"font-weight: bold\">        Test metric        </span>┃<span style=\"font-weight: bold\">       DataLoader 0        </span>┃\n",
       "┡━━━━━━━━━━━━━━━━━━━━━━━━━━━╇━━━━━━━━━━━━━━━━━━━━━━━━━━━┩\n",
       "│<span style=\"color: #008080; text-decoration-color: #008080\">         test_acc          </span>│<span style=\"color: #800080; text-decoration-color: #800080\">    0.26140350103378296    </span>│\n",
       "│<span style=\"color: #008080; text-decoration-color: #008080\">         test_loss         </span>│<span style=\"color: #800080; text-decoration-color: #800080\">    1.7489250898361206     </span>│\n",
       "└───────────────────────────┴───────────────────────────┘\n",
       "</pre>\n"
      ],
      "text/plain": [
       "┏━━━━━━━━━━━━━━━━━━━━━━━━━━━┳━━━━━━━━━━━━━━━━━━━━━━━━━━━┓\n",
       "┃\u001b[1m \u001b[0m\u001b[1m       Test metric       \u001b[0m\u001b[1m \u001b[0m┃\u001b[1m \u001b[0m\u001b[1m      DataLoader 0       \u001b[0m\u001b[1m \u001b[0m┃\n",
       "┡━━━━━━━━━━━━━━━━━━━━━━━━━━━╇━━━━━━━━━━━━━━━━━━━━━━━━━━━┩\n",
       "│\u001b[36m \u001b[0m\u001b[36m        test_acc         \u001b[0m\u001b[36m \u001b[0m│\u001b[35m \u001b[0m\u001b[35m   0.26140350103378296   \u001b[0m\u001b[35m \u001b[0m│\n",
       "│\u001b[36m \u001b[0m\u001b[36m        test_loss        \u001b[0m\u001b[36m \u001b[0m│\u001b[35m \u001b[0m\u001b[35m   1.7489250898361206    \u001b[0m\u001b[35m \u001b[0m│\n",
       "└───────────────────────────┴───────────────────────────┘\n"
      ]
     },
     "metadata": {},
     "output_type": "display_data"
    },
    {
     "data": {
      "text/plain": [
       "[{'test_loss': 1.7489250898361206, 'test_acc': 0.26140350103378296}]"
      ]
     },
     "execution_count": 3,
     "metadata": {},
     "output_type": "execute_result"
    }
   ],
   "source": [
    "############# learning ############\n",
    "from cgi import test\n",
    "from logging import config\n",
    "from pytorch_lightning import seed_everything\n",
    "\n",
    "from sklearn.calibration import log\n",
    "import torch\n",
    "############# config##########\n",
    "import argparse\n",
    "from model.TSPN import Transparent_Signal_Processing_Network\n",
    "from trainer.trainer_basic import Basic_trainer\n",
    "from trainer.trainer_set import trainer_set\n",
    "# from configs.config import args\n",
    "# from configs.config import signal_processing_modules,feature_extractor_modules\n",
    "from configs.config import yaml_arguments,config_network\n",
    "import os\n",
    "# os.environ['CUDA_VISIBLE_DEVICES'] = '0' for test ##########################\n",
    "import argparse\n",
    "\n",
    "\n",
    "config_dir = 'configs/config_basic.yaml'\n",
    "\n",
    "\n",
    "configs,args,path = yaml_arguments(config_dir)\n",
    "seed_everything(args.seed)    \n",
    "# 初始化模型\n",
    "signal_processing_modules, feature_extractor_modules = config_network(configs,args)\n",
    "network = Transparent_Signal_Processing_Network(signal_processing_modules, feature_extractor_modules,args)\n",
    "\n",
    "trainer,train_dataloader, val_dataloader, test_dataloader = trainer_set(args,path)\n",
    "\n",
    "model = Basic_trainer(network, args)\n",
    "\n",
    "best_model_path = 'save/model_TSPN/time2024-03-12-19-26_lr0.001_epochs5_scale4_l1norm0.01_datasetTHU_018_basic_seed17/model-epoch=02-val_loss=1.7489.ckpt'\n",
    "state_dict = torch.load(best_model_path)\n",
    "model.load_state_dict(state_dict['state_dict'])\n",
    "\n",
    "# 使用最佳模型进行测试\n",
    "trainer.test(model, dataloaders=test_dataloader)"
   ]
  }
 ],
 "metadata": {
  "kernelspec": {
   "display_name": "LQ1",
   "language": "python",
   "name": "python3"
  },
  "language_info": {
   "codemirror_mode": {
    "name": "ipython",
    "version": 3
   },
   "file_extension": ".py",
   "mimetype": "text/x-python",
   "name": "python",
   "nbconvert_exporter": "python",
   "pygments_lexer": "ipython3",
   "version": "3.9.18"
  }
 },
 "nbformat": 4,
 "nbformat_minor": 2
}
