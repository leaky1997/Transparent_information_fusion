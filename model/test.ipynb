{
 "cells": [
  {
   "cell_type": "code",
   "execution_count": 5,
   "metadata": {},
   "outputs": [],
   "source": [
    "import torch\n",
    "import torch.nn as nn\n",
    "\n",
    "class CustomBatchNorm(nn.Module):\n",
    "    def __init__(self, num_features, eps=1e-10):\n",
    "        super(CustomBatchNorm, self).__init__()\n",
    "        self.num_features = num_features\n",
    "        self.eps = eps\n",
    "        self.register_buffer('running_mean', torch.zeros(num_features))\n",
    "        self.register_buffer('running_var', torch.ones(num_features))\n",
    "\n",
    "    def forward(self, x):\n",
    "        if self.training:\n",
    "            mean = x.mean(dim=0, keepdim=True)\n",
    "            var = x.var(dim=0, keepdim=True, unbiased=False)\n",
    "            self.running_mean = (1 - self.eps) * self.running_mean + self.eps * mean\n",
    "            self.running_var = (1 - self.eps) * self.running_var + self.eps * var\n",
    "            out = (x - mean) / (var.sqrt() + self.eps)\n",
    "        else:\n",
    "            out = (x - self.running_mean) / (self.running_var.sqrt() + self.eps)\n",
    "        return out"
   ]
  },
  {
   "cell_type": "code",
   "execution_count": 6,
   "metadata": {},
   "outputs": [
    {
     "name": "stdout",
     "output_type": "stream",
     "text": [
      "torch.Size([64, 624, 1])\n"
     ]
    }
   ],
   "source": [
    "# 创建一个随机输入张量\n",
    "input_tensor = torch.randn(64, 624, 1)\n",
    "\n",
    "# 创建一个CustomBatchNorm实例\n",
    "norm_layer = CustomBatchNorm(num_features=624)\n",
    "\n",
    "# 将输入张量传递给norm_layer\n",
    "output_tensor = norm_layer(input_tensor)\n",
    "\n",
    "# 打印输出张量的形状\n",
    "print(output_tensor.shape)"
   ]
  }
 ],
 "metadata": {
  "kernelspec": {
   "display_name": "LQ1",
   "language": "python",
   "name": "python3"
  },
  "language_info": {
   "codemirror_mode": {
    "name": "ipython",
    "version": 3
   },
   "file_extension": ".py",
   "mimetype": "text/x-python",
   "name": "python",
   "nbconvert_exporter": "python",
   "pygments_lexer": "ipython3",
   "version": "3.9.18"
  }
 },
 "nbformat": 4,
 "nbformat_minor": 2
}
